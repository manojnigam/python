{
 "cells": [
  {
   "cell_type": "code",
   "execution_count": 91,
   "id": "002f6ad7",
   "metadata": {},
   "outputs": [],
   "source": [
    "sname=\"manoj nigam\""
   ]
  },
  {
   "cell_type": "code",
   "execution_count": 92,
   "id": "a70c7500",
   "metadata": {},
   "outputs": [
    {
     "name": "stdout",
     "output_type": "stream",
     "text": [
      "manoj nigam\n"
     ]
    }
   ],
   "source": [
    "print(sname)"
   ]
  },
  {
   "cell_type": "code",
   "execution_count": 227,
   "id": "3632a8a4",
   "metadata": {},
   "outputs": [
    {
     "name": "stdout",
     "output_type": "stream",
     "text": [
      "5\n"
     ]
    }
   ],
   "source": [
    "a,b,c=5,3,\"pune\"\n",
    "print(a)"
   ]
  },
  {
   "cell_type": "code",
   "execution_count": 228,
   "id": "7cd9a10c",
   "metadata": {},
   "outputs": [
    {
     "name": "stdout",
     "output_type": "stream",
     "text": [
      "pune is of type <class 'str'>\n"
     ]
    }
   ],
   "source": [
    "print(c,\"is of type\",type(c))"
   ]
  },
  {
   "cell_type": "code",
   "execution_count": 93,
   "id": "4724cdf4",
   "metadata": {},
   "outputs": [
    {
     "name": "stdout",
     "output_type": "stream",
     "text": [
      "manojnigam\n"
     ]
    }
   ],
   "source": [
    "fname=\"manoj\"\n",
    "lname=\"nigam\"\n",
    "print(fname+\"\"+lname)"
   ]
  },
  {
   "cell_type": "code",
   "execution_count": 94,
   "id": "a1b9261f",
   "metadata": {},
   "outputs": [
    {
     "name": "stdout",
     "output_type": "stream",
     "text": [
      "manojnigam\n"
     ]
    }
   ],
   "source": [
    "print(fname+lname)"
   ]
  },
  {
   "cell_type": "code",
   "execution_count": 95,
   "id": "74b72512",
   "metadata": {},
   "outputs": [
    {
     "name": "stdout",
     "output_type": "stream",
     "text": [
      "manoj nigam\n"
     ]
    }
   ],
   "source": [
    "print(fname+\" \"+lname)"
   ]
  },
  {
   "cell_type": "code",
   "execution_count": 96,
   "id": "a1b6634c",
   "metadata": {},
   "outputs": [
    {
     "name": "stdout",
     "output_type": "stream",
     "text": [
      "my name is: manoj nigam\n"
     ]
    }
   ],
   "source": [
    "print(\"my name is: \"+fname+\" \"+lname)"
   ]
  },
  {
   "cell_type": "code",
   "execution_count": 97,
   "id": "ab1d67d7",
   "metadata": {},
   "outputs": [],
   "source": [
    "fname=\"namita\""
   ]
  },
  {
   "cell_type": "code",
   "execution_count": 98,
   "id": "dc9eedb9",
   "metadata": {},
   "outputs": [
    {
     "name": "stdout",
     "output_type": "stream",
     "text": [
      "my name is: namita nigam\n"
     ]
    }
   ],
   "source": [
    "print(\"my name is: \"+fname+\" \"+lname)"
   ]
  },
  {
   "cell_type": "code",
   "execution_count": 99,
   "id": "e6df36a3",
   "metadata": {},
   "outputs": [],
   "source": [
    "a,b,c=5,3,\"manoj\""
   ]
  },
  {
   "cell_type": "code",
   "execution_count": 100,
   "id": "60bd4403",
   "metadata": {},
   "outputs": [
    {
     "name": "stdout",
     "output_type": "stream",
     "text": [
      "8\n"
     ]
    }
   ],
   "source": [
    "print(a+b)"
   ]
  },
  {
   "cell_type": "code",
   "execution_count": 101,
   "id": "049ff42b",
   "metadata": {},
   "outputs": [
    {
     "name": "stdout",
     "output_type": "stream",
     "text": [
      "<class 'int'>\n"
     ]
    }
   ],
   "source": [
    "print(type(a))"
   ]
  },
  {
   "cell_type": "code",
   "execution_count": 102,
   "id": "68466ad5",
   "metadata": {},
   "outputs": [
    {
     "name": "stdout",
     "output_type": "stream",
     "text": [
      "<class 'str'>\n"
     ]
    }
   ],
   "source": [
    "print(type(c))"
   ]
  },
  {
   "cell_type": "code",
   "execution_count": 103,
   "id": "68dfe43c",
   "metadata": {},
   "outputs": [
    {
     "name": "stdout",
     "output_type": "stream",
     "text": [
      "True\n"
     ]
    }
   ],
   "source": [
    "print(isinstance(a,int))"
   ]
  },
  {
   "cell_type": "code",
   "execution_count": 104,
   "id": "33e9a689",
   "metadata": {},
   "outputs": [
    {
     "name": "stdout",
     "output_type": "stream",
     "text": [
      "False\n"
     ]
    }
   ],
   "source": [
    "print(isinstance(c,int))"
   ]
  },
  {
   "cell_type": "code",
   "execution_count": 229,
   "id": "bab29344",
   "metadata": {},
   "outputs": [],
   "source": [
    "d='''testing multiple lines \n",
    "      of text'''"
   ]
  },
  {
   "cell_type": "code",
   "execution_count": 230,
   "id": "ce7da110",
   "metadata": {},
   "outputs": [
    {
     "name": "stdout",
     "output_type": "stream",
     "text": [
      "testing multiple lines \n",
      "      of text\n"
     ]
    }
   ],
   "source": [
    "print(d)"
   ]
  },
  {
   "cell_type": "code",
   "execution_count": 107,
   "id": "aa39bd0a",
   "metadata": {},
   "outputs": [
    {
     "name": "stdout",
     "output_type": "stream",
     "text": [
      "5\n",
      "3\n"
     ]
    }
   ],
   "source": [
    "print(a)\n",
    "print(b)"
   ]
  },
  {
   "cell_type": "code",
   "execution_count": 108,
   "id": "201eab2f",
   "metadata": {},
   "outputs": [],
   "source": [
    "e=3"
   ]
  },
  {
   "cell_type": "code",
   "execution_count": null,
   "id": "edeeacd5",
   "metadata": {},
   "outputs": [],
   "source": [
    "# operators\n",
    "# arithmetic, comparison, assignment, logical, bitwise\n",
    "# comparison operator - to compare values, return True or false"
   ]
  },
  {
   "cell_type": "code",
   "execution_count": 109,
   "id": "ced1393d",
   "metadata": {},
   "outputs": [
    {
     "name": "stdout",
     "output_type": "stream",
     "text": [
      "True\n"
     ]
    }
   ],
   "source": [
    "print(a>b)"
   ]
  },
  {
   "cell_type": "code",
   "execution_count": 231,
   "id": "7a6327b0",
   "metadata": {},
   "outputs": [
    {
     "name": "stdout",
     "output_type": "stream",
     "text": [
      "a==b is False\n"
     ]
    }
   ],
   "source": [
    "print('a==b is',a==b) #to check whether equal"
   ]
  },
  {
   "cell_type": "code",
   "execution_count": 111,
   "id": "02d276be",
   "metadata": {},
   "outputs": [
    {
     "name": "stdout",
     "output_type": "stream",
     "text": [
      "True\n"
     ]
    }
   ],
   "source": [
    "print(bool(e))"
   ]
  },
  {
   "cell_type": "code",
   "execution_count": 112,
   "id": "9e6c193f",
   "metadata": {},
   "outputs": [
    {
     "name": "stdout",
     "output_type": "stream",
     "text": [
      "1.6666666666666667\n"
     ]
    }
   ],
   "source": [
    "print(a/b)"
   ]
  },
  {
   "cell_type": "code",
   "execution_count": 113,
   "id": "848e56f0",
   "metadata": {},
   "outputs": [
    {
     "name": "stdout",
     "output_type": "stream",
     "text": [
      "1\n"
     ]
    }
   ],
   "source": [
    "print(a//b)"
   ]
  },
  {
   "cell_type": "code",
   "execution_count": 114,
   "id": "21f923f2",
   "metadata": {},
   "outputs": [
    {
     "name": "stdout",
     "output_type": "stream",
     "text": [
      "a**b= 125\n"
     ]
    }
   ],
   "source": [
    "print('a**b=',a**b)"
   ]
  },
  {
   "cell_type": "code",
   "execution_count": 115,
   "id": "909441d8",
   "metadata": {},
   "outputs": [
    {
     "name": "stdout",
     "output_type": "stream",
     "text": [
      "a>b is True\n"
     ]
    }
   ],
   "source": [
    "print('a>b is',a>b)"
   ]
  },
  {
   "cell_type": "code",
   "execution_count": 116,
   "id": "7ad8b1e9",
   "metadata": {},
   "outputs": [
    {
     "name": "stdout",
     "output_type": "stream",
     "text": [
      "a!=b is True\n"
     ]
    }
   ],
   "source": [
    "print('a!=b is', a!=b) \n"
   ]
  },
  {
   "cell_type": "code",
   "execution_count": 117,
   "id": "83ac8e58",
   "metadata": {},
   "outputs": [],
   "source": [
    "a+=5\n",
    "#d +=10 equivalent to d=d+10"
   ]
  },
  {
   "cell_type": "code",
   "execution_count": 118,
   "id": "55531219",
   "metadata": {},
   "outputs": [
    {
     "name": "stdout",
     "output_type": "stream",
     "text": [
      "10\n"
     ]
    }
   ],
   "source": [
    "print(a)"
   ]
  },
  {
   "cell_type": "code",
   "execution_count": 119,
   "id": "baf6b89e",
   "metadata": {},
   "outputs": [],
   "source": [
    "a=19"
   ]
  },
  {
   "cell_type": "code",
   "execution_count": 120,
   "id": "14c6bb24",
   "metadata": {},
   "outputs": [
    {
     "name": "stdout",
     "output_type": "stream",
     "text": [
      "True\n"
     ]
    }
   ],
   "source": [
    "# Logical operator - and, or , not\n",
    "# and/or= true if both/either operands are true\n",
    "\n",
    "print(a<20 and b<20)"
   ]
  },
  {
   "cell_type": "code",
   "execution_count": 121,
   "id": "f6074441",
   "metadata": {},
   "outputs": [
    {
     "name": "stdout",
     "output_type": "stream",
     "text": [
      "True\n"
     ]
    }
   ],
   "source": [
    "print(a>15 or b>15)"
   ]
  },
  {
   "cell_type": "code",
   "execution_count": 122,
   "id": "5620d596",
   "metadata": {},
   "outputs": [
    {
     "name": "stdout",
     "output_type": "stream",
     "text": [
      "True\n"
     ]
    }
   ],
   "source": [
    "print(a>15 or b>15) # python code to check or"
   ]
  },
  {
   "cell_type": "code",
   "execution_count": 123,
   "id": "ecca37b1",
   "metadata": {},
   "outputs": [
    {
     "ename": "SyntaxError",
     "evalue": "invalid syntax (1912745466.py, line 1)",
     "output_type": "error",
     "traceback": [
      "\u001b[1;36m  Cell \u001b[1;32mIn[123], line 1\u001b[1;36m\u001b[0m\n\u001b[1;33m    my_function():\u001b[0m\n\u001b[1;37m                 ^\u001b[0m\n\u001b[1;31mSyntaxError\u001b[0m\u001b[1;31m:\u001b[0m invalid syntax\n"
     ]
    }
   ],
   "source": [
    "my_function():\n",
    "    print(\"Hello Python\")\n",
    "    print(\"my_function()\") # wrong code"
   ]
  },
  {
   "cell_type": "code",
   "execution_count": null,
   "id": "78b7a452",
   "metadata": {},
   "outputs": [],
   "source": [
    "def my_function():\n",
    "    print(\"Hello Python\")\n",
    "    "
   ]
  },
  {
   "cell_type": "code",
   "execution_count": 124,
   "id": "5047eb88",
   "metadata": {},
   "outputs": [
    {
     "name": "stdout",
     "output_type": "stream",
     "text": [
      "Hello Python\n"
     ]
    }
   ],
   "source": [
    "my_function()"
   ]
  },
  {
   "cell_type": "code",
   "execution_count": 136,
   "id": "941f2639",
   "metadata": {},
   "outputs": [],
   "source": [
    "import array as arr\n",
    "a=arr.array(\"I\",(3,6,9))"
   ]
  },
  {
   "cell_type": "code",
   "execution_count": 137,
   "id": "8ae9b421",
   "metadata": {
    "scrolled": true
   },
   "outputs": [
    {
     "name": "stdout",
     "output_type": "stream",
     "text": [
      "3\n"
     ]
    }
   ],
   "source": [
    "print(a[0])"
   ]
  },
  {
   "cell_type": "code",
   "execution_count": null,
   "id": "0ed5ffc7",
   "metadata": {},
   "outputs": [],
   "source": [
    "cars=[\"merc\",\"bmw\",\"ford\"]"
   ]
  },
  {
   "cell_type": "code",
   "execution_count": 138,
   "id": "106952fb",
   "metadata": {},
   "outputs": [
    {
     "name": "stdout",
     "output_type": "stream",
     "text": [
      "['merc', 'bmw', 'ford']\n"
     ]
    }
   ],
   "source": [
    "print(cars)"
   ]
  },
  {
   "cell_type": "code",
   "execution_count": 133,
   "id": "19b880cb",
   "metadata": {},
   "outputs": [
    {
     "name": "stdout",
     "output_type": "stream",
     "text": [
      "merc\n"
     ]
    }
   ],
   "source": [
    "print(cars[0])"
   ]
  },
  {
   "cell_type": "code",
   "execution_count": null,
   "id": "e74c7333",
   "metadata": {},
   "outputs": [],
   "source": [
    "famly=[\"Devansh\",\"Mummy\",\"Pops\",\"Raddy\"]"
   ]
  },
  {
   "cell_type": "code",
   "execution_count": null,
   "id": "982ec65a",
   "metadata": {},
   "outputs": [],
   "source": [
    "famly=[\"Devansh\",\"Mummy\",\"Pops\",\"Raddy\"]"
   ]
  },
  {
   "cell_type": "code",
   "execution_count": 130,
   "id": "c4fe2f8f",
   "metadata": {},
   "outputs": [
    {
     "name": "stdout",
     "output_type": "stream",
     "text": [
      "Pops\n"
     ]
    }
   ],
   "source": [
    "print(famly[2])"
   ]
  },
  {
   "cell_type": "code",
   "execution_count": null,
   "id": "b289d64e",
   "metadata": {},
   "outputs": [],
   "source": [
    "obj_myclass=myclass()"
   ]
  },
  {
   "cell_type": "code",
   "execution_count": null,
   "id": "38feff09",
   "metadata": {},
   "outputs": [],
   "source": [
    "print(obj_myclass.x)"
   ]
  },
  {
   "cell_type": "code",
   "execution_count": 125,
   "id": "6e2bfde7",
   "metadata": {},
   "outputs": [],
   "source": [
    "class myclass: \n",
    "    x=10\n",
    "    y=20\n",
    "    def print_myclass(self):\n",
    "        print(x)\n",
    "        print(y)"
   ]
  },
  {
   "cell_type": "code",
   "execution_count": null,
   "id": "a904f8e4",
   "metadata": {},
   "outputs": [],
   "source": [
    "Obj1=myclass()"
   ]
  },
  {
   "cell_type": "code",
   "execution_count": 126,
   "id": "13ec1e42",
   "metadata": {},
   "outputs": [
    {
     "name": "stdout",
     "output_type": "stream",
     "text": [
      "10\n"
     ]
    }
   ],
   "source": [
    "print(Obj1.x)"
   ]
  },
  {
   "cell_type": "code",
   "execution_count": 127,
   "id": "16b1b855",
   "metadata": {},
   "outputs": [
    {
     "ename": "AttributeError",
     "evalue": "'resident' object has no attribute 'print_myclass'",
     "output_type": "error",
     "traceback": [
      "\u001b[1;31m---------------------------------------------------------------------------\u001b[0m",
      "\u001b[1;31mAttributeError\u001b[0m                            Traceback (most recent call last)",
      "Cell \u001b[1;32mIn[127], line 1\u001b[0m\n\u001b[1;32m----> 1\u001b[0m \u001b[43mobj1\u001b[49m\u001b[38;5;241;43m.\u001b[39;49m\u001b[43mprint_myclass\u001b[49m\n",
      "\u001b[1;31mAttributeError\u001b[0m: 'resident' object has no attribute 'print_myclass'"
     ]
    }
   ],
   "source": [
    "obj1.print_myclass \n",
    "#throws error as print(self.x) should hv bn used"
   ]
  },
  {
   "cell_type": "code",
   "execution_count": null,
   "id": "cc13c54c",
   "metadata": {},
   "outputs": [],
   "source": [
    "class resident: \n",
    "    name='manoj'\n",
    "    age='42'\n",
    "    \n",
    "    def show(self):\n",
    "        print('Name:', self.name, 'Age:', self.age)"
   ]
  },
  {
   "cell_type": "code",
   "execution_count": null,
   "id": "d4eefd1b",
   "metadata": {},
   "outputs": [],
   "source": [
    "class resident: \n",
    "    name='manoj'\n",
    "    age='42'\n",
    "    \n",
    "    def show(self):\n",
    "        print('Name:', self.name, 'Age:', self.age)"
   ]
  },
  {
   "cell_type": "code",
   "execution_count": null,
   "id": "bfd02467",
   "metadata": {},
   "outputs": [],
   "source": [
    "obj1=resident()"
   ]
  },
  {
   "cell_type": "code",
   "execution_count": 129,
   "id": "267e7e76",
   "metadata": {},
   "outputs": [
    {
     "name": "stdout",
     "output_type": "stream",
     "text": [
      "manoj\n"
     ]
    }
   ],
   "source": [
    "print(obj1.name)"
   ]
  },
  {
   "cell_type": "code",
   "execution_count": 128,
   "id": "8453899e",
   "metadata": {},
   "outputs": [
    {
     "name": "stdout",
     "output_type": "stream",
     "text": [
      "Name: manoj Age: 42\n"
     ]
    }
   ],
   "source": [
    "obj1.show()"
   ]
  },
  {
   "cell_type": "code",
   "execution_count": null,
   "id": "6b389c4f",
   "metadata": {},
   "outputs": [],
   "source": [
    "class resident: \n",
    "    name='manoj'\n",
    "    age='42'\n",
    "    \n",
    "    def show(self):\n",
    "        print('Name:', name, 'Age:', age)"
   ]
  },
  {
   "cell_type": "code",
   "execution_count": null,
   "id": "18ad39d4",
   "metadata": {},
   "outputs": [],
   "source": [
    "obj1=resident()"
   ]
  },
  {
   "cell_type": "code",
   "execution_count": 140,
   "id": "b8c3a3f2",
   "metadata": {},
   "outputs": [
    {
     "name": "stdout",
     "output_type": "stream",
     "text": [
      "manoj\n"
     ]
    }
   ],
   "source": [
    "print(obj1.name)"
   ]
  },
  {
   "cell_type": "code",
   "execution_count": null,
   "id": "49679a1f",
   "metadata": {},
   "outputs": [],
   "source": [
    "class resident: \n",
    "    name='manoj'\n",
    "    age='42'\n",
    "    \n",
    "    def show(self):\n",
    "        print('Name:', self.name, 'Age:', self.age)"
   ]
  },
  {
   "cell_type": "code",
   "execution_count": null,
   "id": "5d0b2254",
   "metadata": {},
   "outputs": [],
   "source": [
    "obj1=resident()"
   ]
  },
  {
   "cell_type": "code",
   "execution_count": 139,
   "id": "cfe16f7a",
   "metadata": {},
   "outputs": [
    {
     "name": "stdout",
     "output_type": "stream",
     "text": [
      "Name: manoj Age: 42\n"
     ]
    }
   ],
   "source": [
    "obj1.show()"
   ]
  },
  {
   "cell_type": "code",
   "execution_count": null,
   "id": "fa44e92a",
   "metadata": {},
   "outputs": [],
   "source": [
    "class resident: \n",
    "    \n",
    "    def __init__(self, name, age):\n",
    "        # Instance variable\n",
    "        self.name = name\n",
    "        self.age = age\n",
    "    \n",
    "    def show(self):\n",
    "        print('Name:', self.name, 'Age:', self.age)"
   ]
  },
  {
   "cell_type": "code",
   "execution_count": null,
   "id": "1ebcd6bd",
   "metadata": {},
   "outputs": [],
   "source": [
    "obj1=resident('manoj','42')"
   ]
  },
  {
   "cell_type": "code",
   "execution_count": null,
   "id": "b58b64f8",
   "metadata": {},
   "outputs": [],
   "source": [
    "obj2=resident('namita','43')"
   ]
  },
  {
   "cell_type": "code",
   "execution_count": 141,
   "id": "a22fcde1",
   "metadata": {},
   "outputs": [
    {
     "name": "stdout",
     "output_type": "stream",
     "text": [
      "Name: manoj Age: 42\n"
     ]
    }
   ],
   "source": [
    "obj1.show()"
   ]
  },
  {
   "cell_type": "code",
   "execution_count": 142,
   "id": "3baddad9",
   "metadata": {},
   "outputs": [
    {
     "name": "stdout",
     "output_type": "stream",
     "text": [
      "Name: namita Age: 43\n"
     ]
    }
   ],
   "source": [
    "obj2.show()"
   ]
  },
  {
   "cell_type": "code",
   "execution_count": null,
   "id": "df6b12a5",
   "metadata": {},
   "outputs": [],
   "source": [
    "lm1= lambda a:a+10 #lambda function"
   ]
  },
  {
   "cell_type": "code",
   "execution_count": 143,
   "id": "8e0bbf41",
   "metadata": {},
   "outputs": [
    {
     "name": "stdout",
     "output_type": "stream",
     "text": [
      "30\n"
     ]
    }
   ],
   "source": [
    "print(lm1(20))"
   ]
  },
  {
   "cell_type": "code",
   "execution_count": null,
   "id": "15a00f1e",
   "metadata": {},
   "outputs": [],
   "source": [
    "def fxn_add(a,b):\n",
    "    print(a+b)"
   ]
  },
  {
   "cell_type": "code",
   "execution_count": 144,
   "id": "4834d238",
   "metadata": {},
   "outputs": [
    {
     "name": "stdout",
     "output_type": "stream",
     "text": [
      "30\n"
     ]
    }
   ],
   "source": [
    "fxn_add(10,20)"
   ]
  },
  {
   "cell_type": "code",
   "execution_count": null,
   "id": "ee0ef135",
   "metadata": {},
   "outputs": [],
   "source": [
    "#lambda fxn having two arguments \n",
    "# Lambda can have any number of arguments, but only 1 expression\n",
    "\n",
    "x=lambda a,b: a*b"
   ]
  },
  {
   "cell_type": "code",
   "execution_count": 145,
   "id": "a3486812",
   "metadata": {},
   "outputs": [
    {
     "name": "stdout",
     "output_type": "stream",
     "text": [
      "200\n"
     ]
    }
   ],
   "source": [
    "print(x(10,20))"
   ]
  },
  {
   "cell_type": "code",
   "execution_count": 146,
   "id": "cb69d2f5",
   "metadata": {},
   "outputs": [],
   "source": [
    "#importing mymodule.py python module(python source code \n",
    "#with the .py extension)\n",
    "# mymodule has been converted to py, it shouldnt have errors \n",
    "# it has a funtion, myfunction() to print ..(argumetn)...is my best buddy\n",
    "# it also has a class named resident having show() function\n",
    "import mymodule"
   ]
  },
  {
   "cell_type": "code",
   "execution_count": 147,
   "id": "c1101751",
   "metadata": {},
   "outputs": [
    {
     "name": "stdout",
     "output_type": "stream",
     "text": [
      "Manoj  is my best buddy\n"
     ]
    }
   ],
   "source": [
    "mymodule.myfunction(\"Manoj\")"
   ]
  },
  {
   "cell_type": "code",
   "execution_count": 148,
   "id": "0b59d0f4",
   "metadata": {},
   "outputs": [],
   "source": [
    "obj1 = mymodule.resident(\"manoj\", \"45\")"
   ]
  },
  {
   "cell_type": "code",
   "execution_count": 149,
   "id": "e873afd9",
   "metadata": {},
   "outputs": [
    {
     "name": "stdout",
     "output_type": "stream",
     "text": [
      "Name: manoj Age: 45\n"
     ]
    }
   ],
   "source": [
    "obj1.show()"
   ]
  },
  {
   "cell_type": "code",
   "execution_count": null,
   "id": "177ec0ca",
   "metadata": {},
   "outputs": [],
   "source": [
    "# exception handling\n",
    "\n",
    "# try block tests a block of code for errors, \n",
    "# except block lets u handle th eroor\n",
    "# else block execute when no error\n",
    "# finally block execute regardless of result of try and except"
   ]
  },
  {
   "cell_type": "code",
   "execution_count": 150,
   "id": "f11fd73b",
   "metadata": {},
   "outputs": [
    {
     "name": "stdout",
     "output_type": "stream",
     "text": [
      "an exception occured...\n",
      "final destination\n"
     ]
    }
   ],
   "source": [
    "try:\n",
    "    print(name)\n",
    "except:\n",
    "    print(\"an exception occured...\")\n",
    "else:\n",
    "    print(\"code has no error\")\n",
    "finally:\n",
    "    print(\"final destination\")"
   ]
  },
  {
   "cell_type": "code",
   "execution_count": 151,
   "id": "5008d1cc",
   "metadata": {},
   "outputs": [
    {
     "name": "stdout",
     "output_type": "stream",
     "text": [
      "manoj\n",
      "code has no error\n",
      "final destination\n"
     ]
    }
   ],
   "source": [
    "try:\n",
    "    name='manoj'\n",
    "    print(name)\n",
    "except:\n",
    "    print(\"an exception occured...\")\n",
    "else:\n",
    "    print(\"code has no error\")\n",
    "finally:\n",
    "    print(\"final destination\")"
   ]
  },
  {
   "cell_type": "code",
   "execution_count": 155,
   "id": "ed601ee7",
   "metadata": {},
   "outputs": [
    {
     "name": "stdout",
     "output_type": "stream",
     "text": [
      "Variable xyz is not defined\n",
      "final destination\n"
     ]
    }
   ],
   "source": [
    "try:\n",
    "    print(xyz)\n",
    "except NameError:\n",
    "    print(\"Variable xyz is not defined\")\n",
    "except:\n",
    "    print(\"something else went wrong.\")\n",
    "else:\n",
    "    print(\"code has no error\")\n",
    "finally:\n",
    "    print(\"final destination\")"
   ]
  },
  {
   "cell_type": "code",
   "execution_count": 160,
   "id": "46315466",
   "metadata": {},
   "outputs": [
    {
     "name": "stdout",
     "output_type": "stream",
     "text": [
      "something else went wrong.\n",
      "final destination\n"
     ]
    }
   ],
   "source": [
    "try:\n",
    "    xyz=10\n",
    "    print(xyz/0)\n",
    "except NameError:\n",
    "    print(\"Variable xyz is not defined\")\n",
    "except:\n",
    "    print(\"something else went wrong.\")\n",
    "else:\n",
    "    print(\"code has no error\")\n",
    "finally:\n",
    "    print(\"final destination\")"
   ]
  },
  {
   "cell_type": "code",
   "execution_count": 208,
   "id": "4174aad2",
   "metadata": {},
   "outputs": [
    {
     "name": "stdout",
     "output_type": "stream",
     "text": [
      "['apple', 'mango', 'banana']\n"
     ]
    }
   ],
   "source": [
    "#collections\n",
    "#list \n",
    "#ordered, changeable, indexed[0,1,2...] and allow duplicate values.\n",
    "# items have a defined order, and that order will not change.\n",
    "# we can change, add, and remove items \n",
    "# Since lists are indexed, lists can have items with the same value:\n",
    "\n",
    "\n",
    "list1=[\"apple\",\"mango\",\"banana\"] # square brackets used\n",
    "\n",
    "print(list1)"
   ]
  },
  {
   "cell_type": "code",
   "execution_count": 209,
   "id": "3e8c8e7c",
   "metadata": {},
   "outputs": [
    {
     "name": "stdout",
     "output_type": "stream",
     "text": [
      "['apple', 'banana', 'cherry']\n"
     ]
    }
   ],
   "source": [
    "# It is also possible to use the list() constructor when creating a new list.\n",
    "thislist = list((\"apple\", \"banana\", \"cherry\")) \n",
    "# note the double round-brackets\n",
    "print(thislist)"
   ]
  },
  {
   "cell_type": "code",
   "execution_count": 210,
   "id": "ee94e206",
   "metadata": {},
   "outputs": [
    {
     "name": "stdout",
     "output_type": "stream",
     "text": [
      "['apple', 'mango', 'banana']\n"
     ]
    }
   ],
   "source": [
    "print(list1)"
   ]
  },
  {
   "cell_type": "code",
   "execution_count": 211,
   "id": "5756a896",
   "metadata": {},
   "outputs": [],
   "source": [
    "list1[2]='cherry'"
   ]
  },
  {
   "cell_type": "code",
   "execution_count": 212,
   "id": "a1d72180",
   "metadata": {},
   "outputs": [
    {
     "name": "stdout",
     "output_type": "stream",
     "text": [
      "['apple', 'mango', 'cherry']\n"
     ]
    }
   ],
   "source": [
    "print(list1)"
   ]
  },
  {
   "cell_type": "code",
   "execution_count": 213,
   "id": "d6b236aa",
   "metadata": {},
   "outputs": [],
   "source": [
    "list1.append('mango')"
   ]
  },
  {
   "cell_type": "code",
   "execution_count": 178,
   "id": "8bc0a511",
   "metadata": {},
   "outputs": [
    {
     "name": "stdout",
     "output_type": "stream",
     "text": [
      "['apple', 'mango', 'cherry', 'mango']\n"
     ]
    }
   ],
   "source": [
    "print(list1)"
   ]
  },
  {
   "cell_type": "code",
   "execution_count": 215,
   "id": "7a98cd58",
   "metadata": {},
   "outputs": [],
   "source": [
    "list1.sort()"
   ]
  },
  {
   "cell_type": "code",
   "execution_count": 216,
   "id": "8d4fd808",
   "metadata": {},
   "outputs": [
    {
     "name": "stdout",
     "output_type": "stream",
     "text": [
      "['apple', 'cherry', 'mango', 'mango']\n"
     ]
    }
   ],
   "source": [
    "print(list1)"
   ]
  },
  {
   "cell_type": "code",
   "execution_count": 181,
   "id": "834ad3bf",
   "metadata": {},
   "outputs": [],
   "source": [
    "del list1[2]"
   ]
  },
  {
   "cell_type": "code",
   "execution_count": 182,
   "id": "c41d02b6",
   "metadata": {},
   "outputs": [
    {
     "name": "stdout",
     "output_type": "stream",
     "text": [
      "['apple', 'mango', 'mango']\n"
     ]
    }
   ],
   "source": [
    "print(list1)"
   ]
  },
  {
   "cell_type": "code",
   "execution_count": 183,
   "id": "ae89c3fa",
   "metadata": {},
   "outputs": [
    {
     "name": "stdout",
     "output_type": "stream",
     "text": [
      "3\n"
     ]
    }
   ],
   "source": [
    "print(len(list1))"
   ]
  },
  {
   "cell_type": "code",
   "execution_count": null,
   "id": "ca395bde",
   "metadata": {},
   "outputs": [],
   "source": [
    "#List is a collection which is ordered and changeable. Allows duplicate members.\n",
    "#Tuple is a collection which is ordered and unchangeable. Allows duplicate members.\n",
    "#Set is a collection which is unordered, unchangeable*, and unindexed. No duplicate members.\n",
    "#Dictionary is a collection which is ordered** and changeable. No duplicate members."
   ]
  },
  {
   "cell_type": "code",
   "execution_count": 184,
   "id": "bf8842a9",
   "metadata": {},
   "outputs": [],
   "source": [
    "thistuple = (\"apple\", \"banana\", \"cherry\")\n",
    "#round brackets "
   ]
  },
  {
   "cell_type": "code",
   "execution_count": 214,
   "id": "7c2f12df",
   "metadata": {},
   "outputs": [
    {
     "ename": "TypeError",
     "evalue": "'tuple' object doesn't support item deletion",
     "output_type": "error",
     "traceback": [
      "\u001b[1;31m---------------------------------------------------------------------------\u001b[0m",
      "\u001b[1;31mTypeError\u001b[0m                                 Traceback (most recent call last)",
      "Cell \u001b[1;32mIn[214], line 1\u001b[0m\n\u001b[1;32m----> 1\u001b[0m \u001b[38;5;28;01mdel\u001b[39;00m thistuple[\u001b[38;5;241m2\u001b[39m]\n",
      "\u001b[1;31mTypeError\u001b[0m: 'tuple' object doesn't support item deletion"
     ]
    }
   ],
   "source": [
    "del thistuple[2] # tuple doesnt support any change once created"
   ]
  },
  {
   "cell_type": "code",
   "execution_count": 186,
   "id": "ec477e08",
   "metadata": {},
   "outputs": [
    {
     "name": "stdout",
     "output_type": "stream",
     "text": [
      "cherry\n"
     ]
    }
   ],
   "source": [
    "print(thistuple[-1]) #negative means starting from last"
   ]
  },
  {
   "cell_type": "code",
   "execution_count": 217,
   "id": "aea272a1",
   "metadata": {},
   "outputs": [
    {
     "name": "stdout",
     "output_type": "stream",
     "text": [
      "('apple', 'banana')\n"
     ]
    }
   ],
   "source": [
    "print(thistuple[0:2]) # 1 included, 2 not included"
   ]
  },
  {
   "cell_type": "code",
   "execution_count": 188,
   "id": "b69dc904",
   "metadata": {},
   "outputs": [
    {
     "name": "stdout",
     "output_type": "stream",
     "text": [
      "('apple', 'banana')\n"
     ]
    }
   ],
   "source": [
    "print(thistuple[:2])"
   ]
  },
  {
   "cell_type": "code",
   "execution_count": 189,
   "id": "e0efdd19",
   "metadata": {},
   "outputs": [
    {
     "name": "stdout",
     "output_type": "stream",
     "text": [
      "('banana', 'cherry')\n"
     ]
    }
   ],
   "source": [
    "print(thistuple[1:])"
   ]
  },
  {
   "cell_type": "code",
   "execution_count": 191,
   "id": "ac6ad171",
   "metadata": {},
   "outputs": [],
   "source": [
    "myset = {\"apple\", \"banana\", \"cherry\"} \n",
    "#curly brackets"
   ]
  },
  {
   "cell_type": "code",
   "execution_count": 192,
   "id": "c5c71eb6",
   "metadata": {},
   "outputs": [
    {
     "name": "stdout",
     "output_type": "stream",
     "text": [
      "{'cherry', 'banana', 'apple'}\n"
     ]
    }
   ],
   "source": [
    "print(myset)"
   ]
  },
  {
   "cell_type": "code",
   "execution_count": 193,
   "id": "9fa1ddda",
   "metadata": {},
   "outputs": [],
   "source": [
    "myset = {\"apple\", \"banana\", \"cherry\",\"apple\"} "
   ]
  },
  {
   "cell_type": "code",
   "execution_count": 194,
   "id": "fa69824e",
   "metadata": {},
   "outputs": [
    {
     "name": "stdout",
     "output_type": "stream",
     "text": [
      "{'cherry', 'banana', 'apple'}\n"
     ]
    }
   ],
   "source": [
    "print(myset)"
   ]
  },
  {
   "cell_type": "code",
   "execution_count": 196,
   "id": "25fb96c4",
   "metadata": {},
   "outputs": [],
   "source": [
    "myset.remove(\"banana\")"
   ]
  },
  {
   "cell_type": "code",
   "execution_count": 197,
   "id": "7b7737ec",
   "metadata": {},
   "outputs": [
    {
     "name": "stdout",
     "output_type": "stream",
     "text": [
      "{'cherry', 'apple'}\n"
     ]
    }
   ],
   "source": [
    "print(myset)"
   ]
  },
  {
   "cell_type": "code",
   "execution_count": 198,
   "id": "f2a4419f",
   "metadata": {},
   "outputs": [],
   "source": [
    "thisdict = {\n",
    "  \"brand\": \"Ford\",\n",
    "  \"model\": \"Mustang\",\n",
    "  \"year\": 1964\n",
    "}"
   ]
  },
  {
   "cell_type": "code",
   "execution_count": 199,
   "id": "7f6b1aea",
   "metadata": {},
   "outputs": [],
   "source": [
    "#store data values in key:value pairs. hv curly brackets"
   ]
  },
  {
   "cell_type": "code",
   "execution_count": 200,
   "id": "efde4f66",
   "metadata": {},
   "outputs": [
    {
     "name": "stdout",
     "output_type": "stream",
     "text": [
      "{'brand': 'Ford', 'model': 'Mustang', 'year': 1964}\n"
     ]
    }
   ],
   "source": [
    "print(thisdict)"
   ]
  },
  {
   "cell_type": "code",
   "execution_count": 201,
   "id": "6cfd83b5",
   "metadata": {},
   "outputs": [
    {
     "name": "stdout",
     "output_type": "stream",
     "text": [
      "Ford\n"
     ]
    }
   ],
   "source": [
    "print(thisdict[\"brand\"])"
   ]
  },
  {
   "cell_type": "code",
   "execution_count": 202,
   "id": "dfb28ea0",
   "metadata": {},
   "outputs": [
    {
     "name": "stdout",
     "output_type": "stream",
     "text": [
      "{'brand': 'Ford', 'model': 'Mustang', 'year': 2020}\n"
     ]
    }
   ],
   "source": [
    "thisdict = {\n",
    "  \"brand\": \"Ford\",\n",
    "  \"model\": \"Mustang\",\n",
    "  \"year\": 1964,\n",
    "  \"year\": 2020\n",
    "}\n",
    "print(thisdict)"
   ]
  },
  {
   "cell_type": "code",
   "execution_count": 203,
   "id": "d88bdf4d",
   "metadata": {},
   "outputs": [
    {
     "name": "stdout",
     "output_type": "stream",
     "text": [
      "Mustang\n"
     ]
    }
   ],
   "source": [
    "x = thisdict.get(\"model\")\n",
    "print(x)"
   ]
  },
  {
   "cell_type": "code",
   "execution_count": 204,
   "id": "3361bcb8",
   "metadata": {},
   "outputs": [
    {
     "name": "stdout",
     "output_type": "stream",
     "text": [
      "dict_keys(['brand', 'model', 'year'])\n"
     ]
    }
   ],
   "source": [
    "x = thisdict.keys()\n",
    "print(x)"
   ]
  },
  {
   "cell_type": "code",
   "execution_count": 218,
   "id": "ba79e92b",
   "metadata": {},
   "outputs": [
    {
     "name": "stdout",
     "output_type": "stream",
     "text": [
      "['apple', 'cherry', 'mango', 'mango']\n"
     ]
    }
   ],
   "source": [
    "print(list1)"
   ]
  },
  {
   "cell_type": "code",
   "execution_count": 226,
   "id": "bdc42873",
   "metadata": {},
   "outputs": [
    {
     "name": "stdout",
     "output_type": "stream",
     "text": [
      "oops, list has apple\n",
      "oops, list has cherry\n",
      "hurray! the list has mango\n",
      "hurray! the list has mango\n"
     ]
    }
   ],
   "source": [
    "for x in list1:\n",
    "    if x=='mango':\n",
    "        print(\"hurray! the list has \"+x)\n",
    "    else:\n",
    "        print(\"oops, list has \"+x)\n",
    "    "
   ]
  },
  {
   "cell_type": "code",
   "execution_count": null,
   "id": "3c7fa4d8",
   "metadata": {},
   "outputs": [],
   "source": []
  }
 ],
 "metadata": {
  "kernelspec": {
   "display_name": "Python 3 (ipykernel)",
   "language": "python",
   "name": "python3"
  },
  "language_info": {
   "codemirror_mode": {
    "name": "ipython",
    "version": 3
   },
   "file_extension": ".py",
   "mimetype": "text/x-python",
   "name": "python",
   "nbconvert_exporter": "python",
   "pygments_lexer": "ipython3",
   "version": "3.10.9"
  }
 },
 "nbformat": 4,
 "nbformat_minor": 5
}
